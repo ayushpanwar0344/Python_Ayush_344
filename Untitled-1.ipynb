{
 "cells": [
  {
   "cell_type": "markdown",
   "id": "a234d0b8",
   "metadata": {},
   "source": [
    "# Hello World Example\n",
    "This notebook demonstrates how to use Markdown cells to document and explain Python code."
   ]
  },
  {
   "cell_type": "code",
   "execution_count": null,
   "id": "63853a06",
   "metadata": {},
   "outputs": [
    {
     "name": "stdout",
     "output_type": "stream",
     "text": [
      "Hello, World!\n"
     ]
    },
    {
     "name": "stdout",
     "output_type": "stream",
     "text": [
      "Hello, World!\n"
     ]
    }
   ],
   "source": [
    "print(\"Hello, World!\")"
   ]
  },
  {
   "cell_type": "markdown",
   "id": "929b9997",
   "metadata": {},
   "source": [
    "This cell prints a greeting message to the output. Markdown cells like this are useful for explaining what your code does."
   ]
  },
  {
   "cell_type": "code",
   "execution_count": 8,
   "id": "00acfb77",
   "metadata": {},
   "outputs": [
    {
     "name": "stdout",
     "output_type": "stream",
     "text": [
      "<class 'int'>\n",
      "<class 'str'>\n",
      "<class 'complex'>\n",
      "2\n"
     ]
    }
   ],
   "source": [
    "a = 5\n",
    "b = \"10\"\n",
    "c = 3+2j\n",
    "print(type(a))\n",
    "print(type(b))\n",
    "print(type(c))\n",
    "print(len(b))"
   ]
  },
  {
   "cell_type": "code",
   "execution_count": 1,
   "id": "6af2f10a",
   "metadata": {},
   "outputs": [
    {
     "name": "stdout",
     "output_type": "stream",
     "text": [
      "Orange\n",
      "Banana\n",
      "Cherry\n"
     ]
    }
   ],
   "source": [
    "x , y , z = \"Orange\", \"Banana\", \"Cherry\"\n",
    "print(x)\n",
    "print(y)\n",
    "print(z)"
   ]
  },
  {
   "cell_type": "code",
   "execution_count": 2,
   "id": "79fe345f",
   "metadata": {},
   "outputs": [
    {
     "name": "stdout",
     "output_type": "stream",
     "text": [
      "Orange\n",
      "Orange\n",
      "Orange\n"
     ]
    }
   ],
   "source": [
    "x=y=z=\"Orange\"\n",
    "print(x)\n",
    "print(y)\n",
    "print(z)"
   ]
  },
  {
   "cell_type": "code",
   "execution_count": 3,
   "id": "29aff242",
   "metadata": {},
   "outputs": [
    {
     "name": "stdout",
     "output_type": "stream",
     "text": [
      "apple\n",
      "banana\n",
      "cherry\n"
     ]
    }
   ],
   "source": [
    "fruits = [\"apple\", \"banana\", \"cherry\"]\n",
    "x, y, z = fruits\n",
    "print(x)\n",
    "print(y)\n",
    "print(z)"
   ]
  },
  {
   "cell_type": "markdown",
   "id": "e34d1f24",
   "metadata": {},
   "source": [
    "#Global Variable"
   ]
  },
  {
   "cell_type": "code",
   "execution_count": 7,
   "id": "e771f788",
   "metadata": {},
   "outputs": [
    {
     "name": "stdout",
     "output_type": "stream",
     "text": [
      "Python is fantastic\n"
     ]
    }
   ],
   "source": [
    "\n",
    "def myfunc():\n",
    "  global x\n",
    "  x = \"fantastic\"\n",
    "  \n",
    "\n",
    "\n",
    "print(\"Python is \" + x)"
   ]
  },
  {
   "cell_type": "markdown",
   "id": "2519faab",
   "metadata": {},
   "source": [
    "#count"
   ]
  },
  {
   "cell_type": "code",
   "execution_count": null,
   "id": "1116668a",
   "metadata": {},
   "outputs": [
    {
     "name": "stdout",
     "output_type": "stream",
     "text": [
      "12732\n",
      "12732\n",
      "<class 'str'>\n",
      "<class 'int'>\n",
      "2\n"
     ]
    }
   ],
   "source": [
    "a = \"12732\"\n",
    "b = int(a)    #in int we cannot use count function\n",
    "print(a)\n",
    "print(b)\n",
    "print(type(a))\n",
    "print(type(b))\n",
    "c = a.count(\"2\")\n",
    "print(c)"
   ]
  },
  {
   "cell_type": "markdown",
   "id": "ecba9504",
   "metadata": {},
   "source": [
    "## Unit 2"
   ]
  },
  {
   "cell_type": "code",
   "execution_count": null,
   "id": "85f775ba",
   "metadata": {},
   "outputs": [],
   "source": [
    "a = 300\n",
    "b = 33"
   ]
  },
  {
   "cell_type": "markdown",
   "id": "65ba87ec",
   "metadata": {},
   "source": [
    "#short hand if"
   ]
  },
  {
   "cell_type": "code",
   "execution_count": 15,
   "id": "eff38d6d",
   "metadata": {},
   "outputs": [
    {
     "name": "stdout",
     "output_type": "stream",
     "text": [
      "a is greater than b\n"
     ]
    }
   ],
   "source": [
    "a = 300\n",
    "b = 33\n",
    "if a>b: print(\"a is greater than b\")"
   ]
  },
  {
   "cell_type": "code",
   "execution_count": 12,
   "id": "55fd28c8",
   "metadata": {},
   "outputs": [
    {
     "name": "stdout",
     "output_type": "stream",
     "text": [
      "B\n"
     ]
    }
   ],
   "source": [
    "a=2\n",
    "b=300\n",
    "print(\"A\") if a>b else print(\"B\")"
   ]
  },
  {
   "cell_type": "code",
   "execution_count": 16,
   "id": "a8b36a5e",
   "metadata": {},
   "outputs": [
    {
     "name": "stdout",
     "output_type": "stream",
     "text": [
      "30\n"
     ]
    }
   ],
   "source": [
    "a=30\n",
    "b=20\n",
    "if a>b:\n",
    "    print(a)"
   ]
  },
  {
   "cell_type": "code",
   "execution_count": 17,
   "id": "72c7e0f3",
   "metadata": {},
   "outputs": [
    {
     "name": "stdout",
     "output_type": "stream",
     "text": [
      "=\n"
     ]
    }
   ],
   "source": [
    "a=300\n",
    "b=300\n",
    "print(\"A\") if a>b else print(\"=\") if a==b else print(\"B\")"
   ]
  },
  {
   "cell_type": "code",
   "execution_count": 20,
   "id": "123c614b",
   "metadata": {},
   "outputs": [
    {
     "name": "stdout",
     "output_type": "stream",
     "text": [
      "Both conditions are true\n"
     ]
    }
   ],
   "source": [
    "a=200\n",
    "b=30\n",
    "c=500\n",
    "\n",
    "if a>b and c>a:\n",
    "    print(\"Both conditions are true\")"
   ]
  },
  {
   "cell_type": "markdown",
   "id": "0810a9ab",
   "metadata": {},
   "source": [
    "#not"
   ]
  },
  {
   "cell_type": "code",
   "execution_count": 21,
   "id": "418d23e8",
   "metadata": {},
   "outputs": [
    {
     "name": "stdout",
     "output_type": "stream",
     "text": [
      "a is not greater\n"
     ]
    }
   ],
   "source": [
    "a=33\n",
    "b=200\n",
    "if not a>b:\n",
    "    print(\"a is not greater\")"
   ]
  },
  {
   "cell_type": "markdown",
   "id": "eb0baa8e",
   "metadata": {},
   "source": [
    "#Pass"
   ]
  },
  {
   "cell_type": "code",
   "execution_count": 8,
   "id": "5f19d756",
   "metadata": {},
   "outputs": [
    {
     "ename": "SyntaxError",
     "evalue": "incomplete input (223029066.py, line 6)",
     "output_type": "error",
     "traceback": [
      "  \u001b[36mCell\u001b[39m\u001b[36m \u001b[39m\u001b[32mIn[8]\u001b[39m\u001b[32m, line 6\u001b[39m\n\u001b[31m    \u001b[39m\u001b[31m#It will show error if we do not write anything after if statement but we can use \"pass\" statement to avoid error.\u001b[39m\n                                                                                                                      ^\n\u001b[31mSyntaxError\u001b[39m\u001b[31m:\u001b[39m incomplete input\n"
     ]
    }
   ],
   "source": [
    "a=5\n",
    "b=8\n",
    "if a>b:\n",
    "    \n",
    "\n",
    "#It will show error if we do not write anything after if statement but we can use \"pass\" statement to avoid error."
   ]
  },
  {
   "cell_type": "code",
   "execution_count": null,
   "id": "d16913fa",
   "metadata": {},
   "outputs": [],
   "source": [
    "a=5\n",
    "b=8\n",
    "if a>b:\n",
    "    pass"
   ]
  },
  {
   "cell_type": "markdown",
   "id": "868081b4",
   "metadata": {},
   "source": [
    "#Match"
   ]
  },
  {
   "cell_type": "code",
   "execution_count": 1,
   "id": "e9467299",
   "metadata": {},
   "outputs": [
    {
     "name": "stdout",
     "output_type": "stream",
     "text": [
      "Thursday\n"
     ]
    }
   ],
   "source": [
    "day=4\n",
    "match day:\n",
    "    case 1:\n",
    "        print(\"Monday\")\n",
    "    case 2:\n",
    "        print(\"Tuesday\")\n",
    "    case 3:\n",
    "        print(\"Wednesday\")\n",
    "    case 4:\n",
    "        print(\"Thursday\")\n",
    "    case 5:\n",
    "        print(\"Friday\")\n",
    "    case 6:\n",
    "        print(\"Saturday\")\n",
    "    "
   ]
  },
  {
   "cell_type": "code",
   "execution_count": 9,
   "id": "cd34bb4a",
   "metadata": {},
   "outputs": [
    {
     "name": "stdout",
     "output_type": "stream",
     "text": [
      "Weekday\n"
     ]
    }
   ],
   "source": [
    "day=4\n",
    "match day:\n",
    "    case 1 | 2 | 3 | 4 | 5:\n",
    "        print(\"Weekday\")\n",
    "    case 6 | 7:\n",
    "        print(\"Weekend\")"
   ]
  },
  {
   "cell_type": "code",
   "execution_count": 6,
   "id": "18d983f1",
   "metadata": {},
   "outputs": [
    {
     "name": "stdout",
     "output_type": "stream",
     "text": [
      "Weekday\n"
     ]
    }
   ],
   "source": [
    "month = 5\n",
    "day = 5\n",
    "match day:\n",
    "    case 1 | 2 | 3 | 4 | 5 if month==5:\n",
    "        print(\"Weekday\")\n",
    "    case 6 | 7:\n",
    "        print(\"Weekend\")"
   ]
  },
  {
   "cell_type": "markdown",
   "id": "9a8961eb",
   "metadata": {},
   "source": [
    "#While loop"
   ]
  },
  {
   "cell_type": "code",
   "execution_count": 11,
   "id": "3f685ec7",
   "metadata": {},
   "outputs": [
    {
     "name": "stdout",
     "output_type": "stream",
     "text": [
      "0\n",
      "1\n",
      "2\n",
      "3\n",
      "4\n",
      "5\n"
     ]
    }
   ],
   "source": [
    "i=0\n",
    "while i<6:\n",
    "    print(i)\n",
    "    i+=1"
   ]
  },
  {
   "cell_type": "code",
   "execution_count": null,
   "id": "bf902851",
   "metadata": {},
   "outputs": [],
   "source": [
    "a = 5\n",
    "v = input(\"Enter a number between 1-10: \")  # Taking input from user\n",
    "if v==a:\n",
    "    print(\"You guessed it right!\")"
   ]
  },
  {
   "cell_type": "markdown",
   "id": "8c6636a6",
   "metadata": {},
   "source": [
    "#Square of a number"
   ]
  },
  {
   "cell_type": "code",
   "execution_count": null,
   "id": "6e67afa9",
   "metadata": {},
   "outputs": [],
   "source": [
    "v = input(\"Enter a number to be squared : \")\n",
    "a = int(v)\n",
    "b = a**a\n",
    "print(\"The square of the number is : \",b)"
   ]
  },
  {
   "cell_type": "markdown",
   "id": "e85ea4f7",
   "metadata": {},
   "source": [
    "#Input two numbers and print their sum"
   ]
  },
  {
   "cell_type": "code",
   "execution_count": null,
   "id": "3e7d894c",
   "metadata": {},
   "outputs": [],
   "source": [
    "a = input(\"Enter first number : \")\n",
    "b = input(\"Enter second number : \")\n",
    "c = float(a)\n",
    "d = float(b)\n",
    "e = c+d\n",
    "print(\"The sum of the two numbers is : \",e)"
   ]
  },
  {
   "cell_type": "markdown",
   "id": "269a64cf",
   "metadata": {},
   "source": [
    "#Program to swap two numbers"
   ]
  },
  {
   "cell_type": "code",
   "execution_count": 1,
   "id": "5b4eda9f",
   "metadata": {},
   "outputs": [
    {
     "ename": "SyntaxError",
     "evalue": "invalid syntax. Perhaps you forgot a comma? (1372460735.py, line 6)",
     "output_type": "error",
     "traceback": [
      "  \u001b[36mCell\u001b[39m\u001b[36m \u001b[39m\u001b[32mIn[1]\u001b[39m\u001b[32m, line 6\u001b[39m\n\u001b[31m    \u001b[39m\u001b[31mprint(\"After swaping : \"a,b)\u001b[39m\n          ^\n\u001b[31mSyntaxError\u001b[39m\u001b[31m:\u001b[39m invalid syntax. Perhaps you forgot a comma?\n"
     ]
    }
   ],
   "source": [
    "a = input(\"Enter first number : \")\n",
    "b = input(\"Enter second number : \")\n",
    "x = a\n",
    "a = b\n",
    "b = x\n",
    "print(\"After swaping : \"a,b)"
   ]
  },
  {
   "cell_type": "markdown",
   "id": "e2cb4a11",
   "metadata": {},
   "source": [
    "#Program to guess number"
   ]
  },
  {
   "cell_type": "code",
   "execution_count": null,
   "id": "69ac245f",
   "metadata": {},
   "outputs": [],
   "source": [
    "a = 5\n",
    "v = input(\"Enter a number to be guessed : \")\n",
    "if v==a:\n",
    "    print(\"You guessed it right!\")"
   ]
  },
  {
   "cell_type": "markdown",
   "id": "6057d2aa",
   "metadata": {},
   "source": [
    "#Program to check if number is even or odd"
   ]
  },
  {
   "cell_type": "code",
   "execution_count": null,
   "id": "1a50ea98",
   "metadata": {},
   "outputs": [],
   "source": [
    "a = int(input(\"Enter a number : \"))\n",
    "\n",
    "print(\"The number is even\") if a%2==0 else print(\"The number is odd\")"
   ]
  },
  {
   "cell_type": "markdown",
   "id": "59c1939b",
   "metadata": {},
   "source": [
    "#Covert celsious to fahrenheit"
   ]
  },
  {
   "cell_type": "code",
   "execution_count": null,
   "id": "1ce50899",
   "metadata": {},
   "outputs": [],
   "source": [
    "a = float(input(\"Enter temperature in celsious : \"))\n",
    "b = (a*9/5)+32\n",
    "print(\"The temperature in fahrenheit is : \",b)"
   ]
  },
  {
   "cell_type": "markdown",
   "id": "3c77b92e",
   "metadata": {},
   "source": [
    "#To check the type of variable"
   ]
  },
  {
   "cell_type": "code",
   "execution_count": 15,
   "id": "fa2f3a76",
   "metadata": {},
   "outputs": [
    {
     "name": "stdout",
     "output_type": "stream",
     "text": [
      "<class 'int'>\n",
      "<class 'str'>\n",
      "<class 'float'>\n",
      "<class 'complex'>\n",
      "<class 'bool'>\n"
     ]
    }
   ],
   "source": [
    "a = 20\n",
    "b = '20'\n",
    "c = 20.17\n",
    "d = 1+3j\n",
    "e = True\n",
    "print(type(a))\n",
    "print(type(b))\n",
    "print(type(c))\n",
    "print(type(d))\n",
    "print(type(e))"
   ]
  },
  {
   "cell_type": "markdown",
   "id": "d52603f1",
   "metadata": {},
   "source": [
    "#Calculate SI"
   ]
  },
  {
   "cell_type": "code",
   "execution_count": null,
   "id": "9129b136",
   "metadata": {},
   "outputs": [
    {
     "ename": "KeyboardInterrupt",
     "evalue": "Interrupted by user",
     "output_type": "error",
     "traceback": [
      "\u001b[31m---------------------------------------------------------------------------\u001b[39m",
      "\u001b[31mKeyboardInterrupt\u001b[39m                         Traceback (most recent call last)",
      "\u001b[36mCell\u001b[39m\u001b[36m \u001b[39m\u001b[32mIn[14]\u001b[39m\u001b[32m, line 1\u001b[39m\n\u001b[32m----> \u001b[39m\u001b[32m1\u001b[39m p = \u001b[38;5;28mfloat\u001b[39m(\u001b[38;5;28;43minput\u001b[39;49m\u001b[43m(\u001b[49m\u001b[33;43m\"\u001b[39;49m\u001b[33;43mEnter the principal amount : \u001b[39;49m\u001b[33;43m\"\u001b[39;49m\u001b[43m)\u001b[49m)\n\u001b[32m      2\u001b[39m r = \u001b[38;5;28mfloat\u001b[39m(\u001b[38;5;28minput\u001b[39m(\u001b[33m\"\u001b[39m\u001b[33mEnter the rate of interest : \u001b[39m\u001b[33m\"\u001b[39m))\n\u001b[32m      3\u001b[39m t = \u001b[38;5;28mfloat\u001b[39m(\u001b[38;5;28minput\u001b[39m(\u001b[33m\"\u001b[39m\u001b[33mEnter the time in years : \u001b[39m\u001b[33m\"\u001b[39m))\n",
      "\u001b[36mFile \u001b[39m\u001b[32m~\\AppData\\Local\\Packages\\PythonSoftwareFoundation.Python.3.11_qbz5n2kfra8p0\\LocalCache\\local-packages\\Python311\\site-packages\\ipykernel\\kernelbase.py:1275\u001b[39m, in \u001b[36mKernel.raw_input\u001b[39m\u001b[34m(self, prompt)\u001b[39m\n\u001b[32m   1273\u001b[39m     msg = \u001b[33m\"\u001b[39m\u001b[33mraw_input was called, but this frontend does not support input requests.\u001b[39m\u001b[33m\"\u001b[39m\n\u001b[32m   1274\u001b[39m     \u001b[38;5;28;01mraise\u001b[39;00m StdinNotImplementedError(msg)\n\u001b[32m-> \u001b[39m\u001b[32m1275\u001b[39m \u001b[38;5;28;01mreturn\u001b[39;00m \u001b[38;5;28;43mself\u001b[39;49m\u001b[43m.\u001b[49m\u001b[43m_input_request\u001b[49m\u001b[43m(\u001b[49m\n\u001b[32m   1276\u001b[39m \u001b[43m    \u001b[49m\u001b[38;5;28;43mstr\u001b[39;49m\u001b[43m(\u001b[49m\u001b[43mprompt\u001b[49m\u001b[43m)\u001b[49m\u001b[43m,\u001b[49m\n\u001b[32m   1277\u001b[39m \u001b[43m    \u001b[49m\u001b[38;5;28;43mself\u001b[39;49m\u001b[43m.\u001b[49m\u001b[43m_parent_ident\u001b[49m\u001b[43m[\u001b[49m\u001b[33;43m\"\u001b[39;49m\u001b[33;43mshell\u001b[39;49m\u001b[33;43m\"\u001b[39;49m\u001b[43m]\u001b[49m\u001b[43m,\u001b[49m\n\u001b[32m   1278\u001b[39m \u001b[43m    \u001b[49m\u001b[38;5;28;43mself\u001b[39;49m\u001b[43m.\u001b[49m\u001b[43mget_parent\u001b[49m\u001b[43m(\u001b[49m\u001b[33;43m\"\u001b[39;49m\u001b[33;43mshell\u001b[39;49m\u001b[33;43m\"\u001b[39;49m\u001b[43m)\u001b[49m\u001b[43m,\u001b[49m\n\u001b[32m   1279\u001b[39m \u001b[43m    \u001b[49m\u001b[43mpassword\u001b[49m\u001b[43m=\u001b[49m\u001b[38;5;28;43;01mFalse\u001b[39;49;00m\u001b[43m,\u001b[49m\n\u001b[32m   1280\u001b[39m \u001b[43m\u001b[49m\u001b[43m)\u001b[49m\n",
      "\u001b[36mFile \u001b[39m\u001b[32m~\\AppData\\Local\\Packages\\PythonSoftwareFoundation.Python.3.11_qbz5n2kfra8p0\\LocalCache\\local-packages\\Python311\\site-packages\\ipykernel\\kernelbase.py:1320\u001b[39m, in \u001b[36mKernel._input_request\u001b[39m\u001b[34m(self, prompt, ident, parent, password)\u001b[39m\n\u001b[32m   1317\u001b[39m \u001b[38;5;28;01mexcept\u001b[39;00m \u001b[38;5;167;01mKeyboardInterrupt\u001b[39;00m:\n\u001b[32m   1318\u001b[39m     \u001b[38;5;66;03m# re-raise KeyboardInterrupt, to truncate traceback\u001b[39;00m\n\u001b[32m   1319\u001b[39m     msg = \u001b[33m\"\u001b[39m\u001b[33mInterrupted by user\u001b[39m\u001b[33m\"\u001b[39m\n\u001b[32m-> \u001b[39m\u001b[32m1320\u001b[39m     \u001b[38;5;28;01mraise\u001b[39;00m \u001b[38;5;167;01mKeyboardInterrupt\u001b[39;00m(msg) \u001b[38;5;28;01mfrom\u001b[39;00m\u001b[38;5;250m \u001b[39m\u001b[38;5;28;01mNone\u001b[39;00m\n\u001b[32m   1321\u001b[39m \u001b[38;5;28;01mexcept\u001b[39;00m \u001b[38;5;167;01mException\u001b[39;00m:\n\u001b[32m   1322\u001b[39m     \u001b[38;5;28mself\u001b[39m.log.warning(\u001b[33m\"\u001b[39m\u001b[33mInvalid Message:\u001b[39m\u001b[33m\"\u001b[39m, exc_info=\u001b[38;5;28;01mTrue\u001b[39;00m)\n",
      "\u001b[31mKeyboardInterrupt\u001b[39m: Interrupted by user"
     ]
    }
   ],
   "source": [
    "p = float(input(\"Enter the principal amount : \"))\n",
    "r = float(input(\"Enter the rate of interest : \"))\n",
    "t = float(input(\"Enter the time in years : \"))\n",
    "SI = (p*r*t)/100\n",
    "print(\"The Simple Interest is : \",SI)"
   ]
  },
  {
   "cell_type": "markdown",
   "id": "d765c2e1",
   "metadata": {},
   "source": [
    "#Reverse of string"
   ]
  },
  {
   "cell_type": "code",
   "execution_count": null,
   "id": "476528fb",
   "metadata": {},
   "outputs": [],
   "source": []
  },
  {
   "cell_type": "markdown",
   "id": "712380c6",
   "metadata": {},
   "source": [
    "#continue and break"
   ]
  },
  {
   "cell_type": "code",
   "execution_count": 1,
   "id": "9bf77bde",
   "metadata": {},
   "outputs": [
    {
     "name": "stdout",
     "output_type": "stream",
     "text": [
      "1\n",
      "2\n",
      "3\n"
     ]
    }
   ],
   "source": [
    "i = 1\n",
    "while i<6:\n",
    "    print(i)\n",
    "    if i==3:\n",
    "        break\n",
    "    i+=1"
   ]
  },
  {
   "cell_type": "code",
   "execution_count": 3,
   "id": "92831caf",
   "metadata": {},
   "outputs": [
    {
     "name": "stdout",
     "output_type": "stream",
     "text": [
      "1\n",
      "2\n",
      "4\n",
      "5\n",
      "6\n"
     ]
    }
   ],
   "source": [
    "i = 0\n",
    "while i<6:\n",
    "    i+=1\n",
    "    if i==3:\n",
    "        continue\n",
    "    print(i)"
   ]
  },
  {
   "cell_type": "code",
   "execution_count": 12,
   "id": "52e4968e",
   "metadata": {},
   "outputs": [
    {
     "name": "stdout",
     "output_type": "stream",
     "text": [
      "1\n",
      "2\n",
      "3\n",
      "4\n",
      "5\n",
      "i is no longer less than 6\n"
     ]
    }
   ],
   "source": [
    "i=1\n",
    "while i<6:\n",
    "    print(i)\n",
    "    i+=1\n",
    "else:\n",
    "    print(\"i is no longer less than 6\")"
   ]
  },
  {
   "cell_type": "markdown",
   "id": "dca11889",
   "metadata": {},
   "source": [
    "#for"
   ]
  },
  {
   "cell_type": "code",
   "execution_count": 4,
   "id": "47534118",
   "metadata": {},
   "outputs": [
    {
     "name": "stdout",
     "output_type": "stream",
     "text": [
      "apple\n",
      "banana\n",
      "cherry\n",
      "<class 'list'>\n"
     ]
    }
   ],
   "source": [
    "fruits = [\"apple\", \"banana\", \"cherry\"]\n",
    "for x in fruits:\n",
    "    print(x)\n",
    "print(type(fruits))"
   ]
  },
  {
   "cell_type": "code",
   "execution_count": 5,
   "id": "64350d9a",
   "metadata": {},
   "outputs": [
    {
     "name": "stdout",
     "output_type": "stream",
     "text": [
      "a\n",
      "p\n",
      "p\n",
      "l\n",
      "e\n"
     ]
    }
   ],
   "source": [
    "for x in \"apple\":\n",
    "    print(x)"
   ]
  },
  {
   "cell_type": "code",
   "execution_count": 6,
   "id": "7567b7e9",
   "metadata": {},
   "outputs": [
    {
     "name": "stdout",
     "output_type": "stream",
     "text": [
      "apple\n",
      "banana\n"
     ]
    }
   ],
   "source": [
    "fruits = [\"apple\", \"banana\", \"cherry\"]\n",
    "for x in fruits:\n",
    "    print(x)\n",
    "    if x==\"banana\":\n",
    "        break"
   ]
  },
  {
   "cell_type": "code",
   "execution_count": 7,
   "id": "35e101f8",
   "metadata": {},
   "outputs": [
    {
     "name": "stdout",
     "output_type": "stream",
     "text": [
      "apple\n"
     ]
    }
   ],
   "source": [
    "fruits = [\"apple\", \"banana\", \"cherry\"]\n",
    "for x in fruits:\n",
    "    if x==\"banana\":\n",
    "        break\n",
    "    print(x)"
   ]
  },
  {
   "cell_type": "code",
   "execution_count": 8,
   "id": "874509ea",
   "metadata": {},
   "outputs": [
    {
     "name": "stdout",
     "output_type": "stream",
     "text": [
      "0\n",
      "1\n",
      "2\n",
      "3\n",
      "4\n",
      "5\n",
      "6\n",
      "7\n",
      "8\n",
      "9\n"
     ]
    }
   ],
   "source": [
    "for x in range(10):\n",
    "    print(x)"
   ]
  },
  {
   "cell_type": "code",
   "execution_count": 9,
   "id": "3fcbbdee",
   "metadata": {},
   "outputs": [
    {
     "name": "stdout",
     "output_type": "stream",
     "text": [
      "2\n",
      "3\n",
      "4\n",
      "5\n"
     ]
    }
   ],
   "source": [
    "for x in range(2,6):\n",
    "    print(x)"
   ]
  },
  {
   "cell_type": "code",
   "execution_count": 11,
   "id": "3f930be0",
   "metadata": {},
   "outputs": [
    {
     "name": "stdout",
     "output_type": "stream",
     "text": [
      "2\n",
      "5\n",
      "8\n",
      "11\n",
      "14\n",
      "17\n",
      "20\n",
      "23\n",
      "26\n",
      "29\n"
     ]
    }
   ],
   "source": [
    "for x in range(2,30,3):\n",
    "    print(x)"
   ]
  },
  {
   "cell_type": "markdown",
   "id": "523b979f",
   "metadata": {},
   "source": [
    "#for else"
   ]
  },
  {
   "cell_type": "code",
   "execution_count": 13,
   "id": "18bd80e5",
   "metadata": {},
   "outputs": [
    {
     "name": "stdout",
     "output_type": "stream",
     "text": [
      "0\n",
      "1\n",
      "2\n",
      "3\n",
      "4\n",
      "5\n",
      "Finally finished!\n"
     ]
    }
   ],
   "source": [
    "for x in range(6):\n",
    "    print(x)\n",
    "else:\n",
    "    print(\"Finally finished!\")"
   ]
  },
  {
   "cell_type": "markdown",
   "id": "4823cedf",
   "metadata": {},
   "source": [
    "#nested loop"
   ]
  },
  {
   "cell_type": "code",
   "execution_count": 14,
   "id": "607f2329",
   "metadata": {},
   "outputs": [
    {
     "name": "stdout",
     "output_type": "stream",
     "text": [
      "A apple\n",
      "A banana\n",
      "A cherry\n",
      "B apple\n",
      "B banana\n",
      "B cherry\n",
      "C apple\n",
      "C banana\n",
      "C cherry\n"
     ]
    }
   ],
   "source": [
    "a=[\"A\",\"B\",\"C\"]\n",
    "fruits = [\"apple\", \"banana\", \"cherry\"]\n",
    "for x in a:\n",
    "    for y in fruits:\n",
    "        print(x,y)"
   ]
  },
  {
   "cell_type": "code",
   "execution_count": 16,
   "id": "0ed51c9c",
   "metadata": {},
   "outputs": [],
   "source": [
    "for x in [0,1,2,3]:\n",
    "    pass"
   ]
  },
  {
   "cell_type": "markdown",
   "id": "598ce44a",
   "metadata": {},
   "source": [
    "#List"
   ]
  },
  {
   "cell_type": "code",
   "execution_count": null,
   "id": "779d872f",
   "metadata": {},
   "outputs": [
    {
     "name": "stdout",
     "output_type": "stream",
     "text": [
      "['rohan', 1, 3]\n"
     ]
    }
   ],
   "source": [
    "list1 = [\"rohan\" , 1 , 3]\n",
    "print(list1)\n",
    "\n",
    "#ordered , changeable, allows duplicate members"
   ]
  },
  {
   "cell_type": "code",
   "execution_count": 4,
   "id": "74988fbf",
   "metadata": {},
   "outputs": [
    {
     "name": "stdout",
     "output_type": "stream",
     "text": [
      "['rohan', 1, 3, 'rohan', 'apple', 'apple']\n",
      "6\n"
     ]
    }
   ],
   "source": [
    "list1 = [\"rohan\" , 1 , 3 , \"rohan\" , \"apple\" ,\"apple\"]\n",
    "print(list1)\n",
    "print(len(list1))"
   ]
  },
  {
   "cell_type": "markdown",
   "id": "1c612c98",
   "metadata": {},
   "source": [
    "#list constructor"
   ]
  },
  {
   "cell_type": "code",
   "execution_count": 6,
   "id": "b94a2614",
   "metadata": {},
   "outputs": [
    {
     "name": "stdout",
     "output_type": "stream",
     "text": [
      "<class 'list'>\n",
      "['rohan', 1, 3, 'rohan', 'apple', 'apple']\n"
     ]
    }
   ],
   "source": [
    "list2 = list((\"rohan\" , 1 , 3 , \"rohan\" , \"apple\" ,\"apple\"))\n",
    "print(type(list2))\n",
    "print(list2)"
   ]
  },
  {
   "cell_type": "markdown",
   "id": "467617a0",
   "metadata": {},
   "source": [
    "#excess item in a list"
   ]
  },
  {
   "cell_type": "code",
   "execution_count": 7,
   "id": "d6305c31",
   "metadata": {},
   "outputs": [
    {
     "name": "stdout",
     "output_type": "stream",
     "text": [
      "1\n"
     ]
    }
   ],
   "source": [
    "list1 = [\"rohan\" , 1 , 3 , \"rohan\" , \"apple\" ,\"apple\"]\n",
    "print(list1[1])"
   ]
  },
  {
   "cell_type": "code",
   "execution_count": 8,
   "id": "a9730214",
   "metadata": {},
   "outputs": [
    {
     "name": "stdout",
     "output_type": "stream",
     "text": [
      "apple\n"
     ]
    }
   ],
   "source": [
    "list1 = [\"rohan\" , 1 , 3 , \"rohan\" , \"apple\" ,\"apple\"]\n",
    "print(list1[-1])"
   ]
  },
  {
   "cell_type": "markdown",
   "id": "ed5e16f7",
   "metadata": {},
   "source": [
    "#range of indexes"
   ]
  },
  {
   "cell_type": "code",
   "execution_count": 9,
   "id": "f3265e3e",
   "metadata": {},
   "outputs": [
    {
     "name": "stdout",
     "output_type": "stream",
     "text": [
      "[3, 'rohan', 'apple']\n"
     ]
    }
   ],
   "source": [
    "list1 = [\"rohan\" , 1 , 3 , \"rohan\" , \"apple\" ,\"apple\"]\n",
    "print(list1[2:5])"
   ]
  },
  {
   "cell_type": "code",
   "execution_count": 10,
   "id": "ef338ecd",
   "metadata": {},
   "outputs": [
    {
     "name": "stdout",
     "output_type": "stream",
     "text": [
      "[3, 'rohan', 'apple']\n"
     ]
    }
   ],
   "source": [
    "list1 = [\"rohan\" , 1 , 3 , \"rohan\" , \"apple\" ,\"apple\"]\n",
    "print(list1[-4:-1])"
   ]
  },
  {
   "cell_type": "markdown",
   "id": "c9c69b2a",
   "metadata": {},
   "source": [
    "#check if item exists"
   ]
  },
  {
   "cell_type": "code",
   "execution_count": 11,
   "id": "2b0f908f",
   "metadata": {},
   "outputs": [
    {
     "name": "stdout",
     "output_type": "stream",
     "text": [
      "Yes\n"
     ]
    }
   ],
   "source": [
    "list1 = [\"rohan\" , 1 , 3 , \"rohan\" , \"apple\" ,\"apple\"]\n",
    "if \"apple\" in list1:\n",
    "    print(\"Yes\")"
   ]
  },
  {
   "cell_type": "markdown",
   "id": "82b7f1a5",
   "metadata": {},
   "source": [
    "#Change list item"
   ]
  },
  {
   "cell_type": "code",
   "execution_count": 12,
   "id": "f82d5e22",
   "metadata": {},
   "outputs": [
    {
     "name": "stdout",
     "output_type": "stream",
     "text": [
      "['ram', 1, 3, 'rohan', 'apple', 'apple']\n"
     ]
    }
   ],
   "source": [
    "list1 = [\"rohan\" , 1 , 3 , \"rohan\" , \"apple\" ,\"apple\"]\n",
    "list1[0] = \"ram\"\n",
    "print(list1)"
   ]
  },
  {
   "cell_type": "code",
   "execution_count": 15,
   "id": "d3094645",
   "metadata": {},
   "outputs": [
    {
     "name": "stdout",
     "output_type": "stream",
     "text": [
      "['rohan', 'aman', 'rahul', 'rohan', 'apple', 'apple']\n"
     ]
    }
   ],
   "source": [
    "list1 = [\"rohan\" , 1 , 3 , \"rohan\" , \"apple\" ,\"apple\"]\n",
    "list1[1:3] = [\"aman\" , \"rahul\"]\n",
    "print(list1)"
   ]
  },
  {
   "cell_type": "code",
   "execution_count": 16,
   "id": "d6f81755",
   "metadata": {},
   "outputs": [
    {
     "name": "stdout",
     "output_type": "stream",
     "text": [
      "['rohan', 'aman', 'rahul', 'h', 'a', 'rohan', 'apple', 'apple']\n"
     ]
    }
   ],
   "source": [
    "list1 = [\"rohan\" , 1 , 3 , \"rohan\" , \"apple\" ,\"apple\"]\n",
    "list1[1:3] = [\"aman\" , \"rahul\" , \"h\" , \"a\"]\n",
    "print(list1)"
   ]
  },
  {
   "cell_type": "markdown",
   "id": "b725b304",
   "metadata": {},
   "source": [
    "#insert"
   ]
  },
  {
   "cell_type": "code",
   "execution_count": 17,
   "id": "45307a79",
   "metadata": {},
   "outputs": [
    {
     "name": "stdout",
     "output_type": "stream",
     "text": [
      "['rohan', 1, 'hello', 3, 'rohan', 'apple', 'apple']\n"
     ]
    }
   ],
   "source": [
    "list1 = [\"rohan\" , 1 , 3 , \"rohan\" , \"apple\" ,\"apple\"]\n",
    "list1.insert(2 , \"hello\")\n",
    "print(list1)"
   ]
  },
  {
   "cell_type": "markdown",
   "id": "6fc255a0",
   "metadata": {},
   "source": [
    "#append"
   ]
  },
  {
   "cell_type": "code",
   "execution_count": 18,
   "id": "e222fa36",
   "metadata": {},
   "outputs": [
    {
     "name": "stdout",
     "output_type": "stream",
     "text": [
      "['rohan', 1, 3, 'rohan', 'apple', 'apple', 'world']\n"
     ]
    }
   ],
   "source": [
    "list1 = [\"rohan\" , 1 , 3 , \"rohan\" , \"apple\" ,\"apple\"]\n",
    "list1.append(\"world\")\n",
    "print(list1)"
   ]
  },
  {
   "cell_type": "markdown",
   "id": "3f824639",
   "metadata": {},
   "source": [
    "#extend list"
   ]
  },
  {
   "cell_type": "code",
   "execution_count": 20,
   "id": "111fac81",
   "metadata": {},
   "outputs": [
    {
     "name": "stdout",
     "output_type": "stream",
     "text": [
      "['rohan', 1, 3, 'rohan', 'apple', 'apple', 'hello', 2, 4, 'hello', 'banana', 'banana']\n"
     ]
    }
   ],
   "source": [
    "list1 = [\"rohan\" , 1 , 3 , \"rohan\" , \"apple\" ,\"apple\"]\n",
    "list2 = [\"hello\" , 2 , 4 , \"hello\" , \"banana\" ,\"banana\"]\n",
    "list1.extend(list2)\n",
    "print(list1)"
   ]
  },
  {
   "cell_type": "markdown",
   "id": "47df4286",
   "metadata": {},
   "source": [
    "#remove"
   ]
  },
  {
   "cell_type": "code",
   "execution_count": 21,
   "id": "0b12f734",
   "metadata": {},
   "outputs": [
    {
     "name": "stdout",
     "output_type": "stream",
     "text": [
      "['rohan', 1, 3, 'rohan', 'apple']\n"
     ]
    }
   ],
   "source": [
    "list1 = [\"rohan\" , 1 , 3 , \"rohan\" , \"apple\" ,\"apple\"]\n",
    "list1.remove(\"apple\")\n",
    "print(list1)"
   ]
  },
  {
   "cell_type": "code",
   "execution_count": 22,
   "id": "432a36a0",
   "metadata": {},
   "outputs": [
    {
     "name": "stdout",
     "output_type": "stream",
     "text": [
      "['rohan', 3, 'rohan', 'apple', 'apple']\n"
     ]
    }
   ],
   "source": [
    "list1 = [\"rohan\" , 1 , 3 , \"rohan\" , \"apple\" ,\"apple\"]\n",
    "list1.pop(1)\n",
    "print(list1)"
   ]
  },
  {
   "cell_type": "code",
   "execution_count": 24,
   "id": "e91c6ead",
   "metadata": {},
   "outputs": [
    {
     "name": "stdout",
     "output_type": "stream",
     "text": [
      "['rohan', 1, 3, 'rohan', 'apple']\n"
     ]
    }
   ],
   "source": [
    "list1 = [\"rohan\" , 1 , 3 , \"rohan\" , \"apple\" ,\"apple\"]\n",
    "list1.pop()\n",
    "print(list1)"
   ]
  },
  {
   "cell_type": "markdown",
   "id": "a4c1b62a",
   "metadata": {},
   "source": [
    "The code above assigns values to two variables: <code>a</code> (an integer) and <code>b</code> (a string).  \n",
    "It then prints the type of each variable and the length of the string <code>b</code>.  \n",
    "- <code>type(a)</code> shows that <code>a</code> is an integer.  \n",
    "- <code>type(b)</code> shows that <code>b</code> is a string.  \n",
    "- <code>len(b)</code> outputs the number of characters in <code>b</code>, which is 2."
   ]
  },
  {
   "cell_type": "markdown",
   "id": "dd8c13c8",
   "metadata": {},
   "source": [
    "print(\"Hello, World!\")\n",
    "a=5\n",
    "b=\"10\"\n",
    "print(type(a))\n",
    "print(type(b))\n",
    "print(len(b))"
   ]
  },
  {
   "cell_type": "markdown",
   "id": "4b95bfd2",
   "metadata": {},
   "source": []
  }
 ],
 "metadata": {
  "kernelspec": {
   "display_name": "Python 3",
   "language": "python",
   "name": "python3"
  },
  "language_info": {
   "codemirror_mode": {
    "name": "ipython",
    "version": 3
   },
   "file_extension": ".py",
   "mimetype": "text/x-python",
   "name": "python",
   "nbconvert_exporter": "python",
   "pygments_lexer": "ipython3",
   "version": "3.11.9"
  }
 },
 "nbformat": 4,
 "nbformat_minor": 5
}
